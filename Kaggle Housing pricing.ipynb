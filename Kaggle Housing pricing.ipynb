{
 "cells": [
  {
   "cell_type": "code",
   "execution_count": 1,
   "metadata": {
    "collapsed": true
   },
   "outputs": [],
   "source": [
    "import pandas as pd\n",
    "import numpy as np\n",
    "import matplotlib.pyplot as plt\n",
    "import seaborn as sns\n",
    "from sklearn.linear_model import LinearRegression, Lasso, Ridge, ElasticNet\n",
    "from sklearn.preprocessing import PolynomialFeatures, StandardScaler\n",
    "from sklearn.model_selection import train_test_split, GridSearchCV\n",
    "\n",
    "% matplotlib inline"
   ]
  },
  {
   "cell_type": "code",
   "execution_count": 2,
   "metadata": {
    "collapsed": true
   },
   "outputs": [],
   "source": [
    "trainhousingpd = pd.read_csv('train.csv',index_col='Id')\n",
    "testhousingpd = pd.read_csv('test.csv', index_col='Id')"
   ]
  },
  {
   "cell_type": "code",
   "execution_count": 3,
   "metadata": {},
   "outputs": [
    {
     "data": {
      "text/plain": [
       "(1460, 80)"
      ]
     },
     "execution_count": 3,
     "metadata": {},
     "output_type": "execute_result"
    }
   ],
   "source": [
    "trainhousingpd.shape\n",
    "\n"
   ]
  },
  {
   "cell_type": "code",
   "execution_count": null,
   "metadata": {},
   "outputs": [],
   "source": [
    "# now for some eda\n",
    "trainhousingpd.describe()"
   ]
  },
  {
   "cell_type": "code",
   "execution_count": null,
   "metadata": {},
   "outputs": [],
   "source": [
    "trainhousingpd.isnull().sum()"
   ]
  },
  {
   "cell_type": "code",
   "execution_count": null,
   "metadata": {},
   "outputs": [],
   "source": [
    "trainhousingpd.dtypes"
   ]
  },
  {
   "cell_type": "code",
   "execution_count": null,
   "metadata": {},
   "outputs": [],
   "source": [
    "testhousingpd.isnull().sum()"
   ]
  },
  {
   "cell_type": "code",
   "execution_count": null,
   "metadata": {},
   "outputs": [],
   "source": [
    "trainhousingpd.corr()['SalePrice']"
   ]
  },
  {
   "cell_type": "code",
   "execution_count": null,
   "metadata": {},
   "outputs": [],
   "source": [
    "trainhousingpd[trainhousingpd['OverallQual'].isnull()]"
   ]
  },
  {
   "cell_type": "code",
   "execution_count": null,
   "metadata": {},
   "outputs": [],
   "source": [
    "testhousingpd[testhousingpd['LotFrontage'].isnull()]"
   ]
  },
  {
   "cell_type": "code",
   "execution_count": 4,
   "metadata": {
    "scrolled": true
   },
   "outputs": [
    {
     "name": "stderr",
     "output_type": "stream",
     "text": [
      "/opt/conda/lib/python3.6/site-packages/ipykernel_launcher.py:2: SettingWithCopyWarning: \n",
      "A value is trying to be set on a copy of a slice from a DataFrame\n",
      "\n",
      "See the caveats in the documentation: http://pandas.pydata.org/pandas-docs/stable/indexing.html#indexing-view-versus-copy\n",
      "  \n"
     ]
    }
   ],
   "source": [
    "# house 2577 doesn't have a garagearea. Lets fix that.\n",
    "testhousingpd['GarageArea'][2577] = testhousingpd['GarageArea'].mean()"
   ]
  },
  {
   "cell_type": "code",
   "execution_count": 5,
   "metadata": {
    "collapsed": true
   },
   "outputs": [],
   "source": [
    "testhousingpd[testhousingpd['LotFrontage'].isnull()] = testhousingpd['LotFrontage'].mean()"
   ]
  },
  {
   "cell_type": "markdown",
   "metadata": {},
   "source": [
    "pd.get_dummies(trainhousingpd['MSSubClass'],prefix='MSSUB')\n",
    "pd.get_dummies(trainhousingpd['MSZoning'],prefix='MSZone')\n",
    "pd.get_dummies(trainhousingpd['Street'],prefix='MSZone')\n",
    "pd.get_dummies(trainhousingpd['Alley'],prefix='Alley')\n",
    "pd.get_dummies(trainhousingpd['Condition1'],prefix='Condition1')\n",
    "pd.get_dummies(trainhousingpd['Condition2'],prefix='Condition2')\n",
    "pd.get_dummies(trainhousingpd['BldgType'],prefix='BldgType')\n",
    "pd.get_dummies(trainhousingpd['HouseStyle'],prefix='HouseStyle')\n",
    "pd.get_dummies(trainhousingpd['SaleType'],prefix='SaleType')\n",
    "pd.get_dummies(trainhousingpd['SaleCondition'],prefix='SaleCondition')\n",
    "pd.get_dummies(trainhousingpd['CentralAir'],prefix='CentralAir')\n",
    "pd.get_dummies(trainhousingpd['Neighborhood'],prefix='Neighborhood')\n",
    "\n",
    "\n"
   ]
  },
  {
   "cell_type": "markdown",
   "metadata": {},
   "source": [
    "# time to feature engineer features that should be numeric\n",
    "ExterQual: (done)\n",
    "\t\t\n",
    "       Ex\tExcellent\n",
    "       Gd\tGood\n",
    "       TA\tAverage/Typical\n",
    "       Fa\tFair\n",
    "       Po\tPoor\n",
    "\t\t\n",
    "ExterCond (done)\n",
    "\t\t\n",
    "       Ex\tExcellent\n",
    "       Gd\tGood\n",
    "       TA\tAverage/Typical\n",
    "       Fa\tFair\n",
    "       Po\tPoor\n",
    "Utilities: Type of utilities available\n",
    "\t\t\n",
    "       AllPub\tAll public Utilities (E,G,W,& S)\t\n",
    "       NoSewr\tElectricity, Gas, and Water (Septic Tank)\n",
    "       NoSeWa\tElectricity and Gas Only\n",
    "       ELO\tElectricity only\t\n",
    "LotShape: General shape of property\n",
    "\n",
    "       Reg\tRegular\t\n",
    "       IR1\tSlightly irregular\n",
    "       IR2\tModerately Irregular\n",
    "       IR3\tIrregular\n",
    "BsmtQual(done): Evaluates the height of the basement\n",
    "\n",
    "       Ex\tExcellent (100+ inches)\t\n",
    "       Gd\tGood (90-99 inches)\n",
    "       TA\tTypical (80-89 inches)\n",
    "       Fa\tFair (70-79 inches)\n",
    "       Po\tPoor (<70 inches\n",
    "       NA\tNo Basement\n",
    "\t\t\n",
    "BsmtCond(done): Evaluates the general condition of the basement\n",
    "\n",
    "       Ex\tExcellent\n",
    "       Gd\tGood\n",
    "       TA\tTypical - slight dampness allowed\n",
    "       Fa\tFair - dampness or some cracking or settling\n",
    "       Po\tPoor - Severe cracking, settling, or wetness\n",
    "       NA\tNo Basement\n",
    "\t\n",
    "BsmtExposure: Refers to walkout or garden level walls\n",
    "\n",
    "       Gd\tGood Exposure\n",
    "       Av\tAverage Exposure (split levels or foyers typically score average or above)\t\n",
    "       Mn\tMimimum Exposure\n",
    "       No\tNo Exposure\n",
    "       NA\tNo Basement\n",
    "BsmtFinType1: Rating of basement finished area\n",
    "\n",
    "       GLQ\tGood Living Quarters\n",
    "       ALQ\tAverage Living Quarters\n",
    "       BLQ\tBelow Average Living Quarters\t\n",
    "       Rec\tAverage Rec Room\n",
    "       LwQ\tLow Quality\n",
    "       Unf\tUnfinshed\n",
    "       NA\tNo Basement\n",
    "HeatingQC: Heating quality and condition\n",
    "\n",
    "       Ex\tExcellent\n",
    "       Gd\tGood\n",
    "       TA\tAverage/Typical\n",
    "       Fa\tFair\n",
    "       Po\tPoor\n",
    "\t\t\n",
    "CentralAir: Central air conditioning\n",
    "\n",
    "       N\tNo\n",
    "       Y\tYes\n",
    "Functional: Home functionality (Assume typical unless deductions are warranted)\n",
    "\n",
    "       Typ\tTypical Functionality\n",
    "       Min1\tMinor Deductions 1\n",
    "       Min2\tMinor Deductions 2\n",
    "       Mod\tModerate Deductions\n",
    "       Maj1\tMajor Deductions 1\n",
    "       Maj2\tMajor Deductions 2\n",
    "       Sev\tSeverely Damaged\n",
    "       Sal\tSalvage only\n",
    "       \n",
    " \n",
    "       Ex\tExcellent (100+ inches)\t\n",
    "       Gd\tGood (90-99 inches)\n",
    "       TA\tTypical (80-89 inches)\n",
    "       Fa\tFair (70-79 inches)\n",
    "       Po\tPoor (<70 inches\n",
    "       NA\tNo Basement"
   ]
  },
  {
   "cell_type": "code",
   "execution_count": null,
   "metadata": {
    "collapsed": true
   },
   "outputs": [],
   "source": [
    "# so, there's a coming grading system used for a lot of these, let's write a dictionary/function which allows for conversion\n",
    "\n",
    "    "
   ]
  },
  {
   "cell_type": "code",
   "execution_count": null,
   "metadata": {},
   "outputs": [],
   "source": []
  },
  {
   "cell_type": "code",
   "execution_count": null,
   "metadata": {},
   "outputs": [],
   "source": [
    "\n"
   ]
  },
  {
   "cell_type": "markdown",
   "metadata": {},
   "source": []
  },
  {
   "cell_type": "code",
   "execution_count": 6,
   "metadata": {
    "collapsed": true
   },
   "outputs": [],
   "source": [
    "# so, there's a coming grading system used for a lot of these, let's write a dictionary/function which allows for conversion\n",
    "\n",
    "def describetonum(stringdesc):\n",
    "    if stringdesc=='Ex':\n",
    "        return 5\n",
    "    elif stringdesc=='Gd':\n",
    "        return 4\n",
    "    elif (stringdesc=='TA') | (stringdesc=='AllPub')| (stringdesc=='Reg'):\n",
    "        return 3\n",
    "    elif (stringdesc=='Fa') | (stringdesc=='NoSewr')| (stringdesc=='IR1'):\n",
    "        return 2\n",
    "    elif (stringdesc=='Po') | (stringdesc=='NoSeWa')| (stringdesc=='IR2'):\n",
    "        return 1\n",
    "    elif (stringdesc=='NA') | (stringdesc=='ELO')| (stringdesc=='IR3'):\n",
    "        return 0\n",
    "    else:\n",
    "        return 0\n",
    "def Funcnum(stringdesc):\n",
    "    if stringdesc=='Typ':\n",
    "        return 7\n",
    "    elif stringdesc=='Min1':\n",
    "        return 6\n",
    "    elif stringdesc=='Min2':\n",
    "        return 5\n",
    "    elif stringdesc=='Mod':\n",
    "        return 4\n",
    "    elif stringdesc=='Maj1':\n",
    "        return 3\n",
    "    elif stringdesc=='Maj2':\n",
    "        return 2\n",
    "    elif stringdesc=='Sev':\n",
    "        return 1\n",
    "    elif stringdesc=='Sal':\n",
    "        return 0\n",
    "    else:\n",
    "        return 0\n",
    "trainhousingpd['ExterQual']= trainhousingpd['ExterQual'].apply(describetonum)    \n",
    "trainhousingpd['LotShape']= trainhousingpd['LotShape'].apply(describetonum)\n",
    "trainhousingpd['Utilities']= trainhousingpd['Utilities'].apply(describetonum)\n",
    "trainhousingpd['ExterCond']= trainhousingpd['ExterCond'].apply(describetonum)\n",
    "trainhousingpd['BsmtQual']= trainhousingpd['BsmtQual'].apply(describetonum)\n",
    "trainhousingpd['BsmtCond']= trainhousingpd['BsmtCond'].apply(describetonum)\n",
    "trainhousingpd['HeatingQC']= trainhousingpd['HeatingQC'].apply(describetonum)\n",
    "trainhousingpd['Functional']= trainhousingpd['Functional'].apply(Funcnum)"
   ]
  },
  {
   "cell_type": "code",
   "execution_count": 7,
   "metadata": {},
   "outputs": [],
   "source": [
    "\n",
    "tempdlist = [ pd.get_dummies(trainhousingpd['CentralAir'],prefix='CentralAir'), pd.get_dummies(trainhousingpd['MSSubClass'],prefix='MSSUB')\n",
    ",pd.get_dummies(trainhousingpd['MSZoning'],prefix='MSZone')\n",
    ",pd.get_dummies(trainhousingpd['Street'],prefix='MSZone')\n",
    ",pd.get_dummies(trainhousingpd['Alley'],prefix='Alley')\n",
    ",pd.get_dummies(trainhousingpd['Condition1'],prefix='Condition1')\n",
    ",pd.get_dummies(trainhousingpd['Condition2'],prefix='Condition2')\n",
    ",pd.get_dummies(trainhousingpd['BldgType'],prefix='BldgType')\n",
    ",pd.get_dummies(trainhousingpd['HouseStyle'],prefix='HouseStyle')\n",
    ",pd.get_dummies(trainhousingpd['SaleType'],prefix='SaleType')\n",
    ",pd.get_dummies(trainhousingpd['SaleCondition'],prefix='SaleCondition')\n",
    ",pd.get_dummies(trainhousingpd['Neighborhood'],prefix='Neighborhood')\n",
    ",trainhousingpd]\n",
    "trainfeatureenged =pd.concat(tempdlist, axis=1)"
   ]
  },
  {
   "cell_type": "markdown",
   "metadata": {},
   "source": [
    "Let's make a function to describe what neighborhood people want to live in. "
   ]
  },
  {
   "cell_type": "code",
   "execution_count": 8,
   "metadata": {},
   "outputs": [],
   "source": [
    "zonedf = pd.get_dummies(trainhousingpd['MSZoning'],prefix='')\n",
    "zonesubclassdf=  pd.get_dummies(trainhousingpd['MSSubClass'],prefix='')\n",
    "neighborhooddf = pd.get_dummies(trainhousingpd['Neighborhood'],prefix='')\n",
    "zonedf['SalePrice'] = trainhousingpd['SalePrice']\n",
    "neighborhooddf['SalePrice'] = trainhousingpd['SalePrice']\n",
    "zonesubclassdf['SalePrice'] = trainhousingpd['SalePrice']"
   ]
  },
  {
   "cell_type": "code",
   "execution_count": 9,
   "metadata": {},
   "outputs": [],
   "source": [
    "good_zones = zonedf.corr()['SalePrice'].sort_values()"
   ]
  },
  {
   "cell_type": "code",
   "execution_count": 10,
   "metadata": {},
   "outputs": [],
   "source": [
    "good_neighborhoods= neighborhooddf.corr()['SalePrice'].sort_values()\n",
    "good_subzone= zonesubclassdf.corr()['SalePrice'].sort_values()"
   ]
  },
  {
   "cell_type": "code",
   "execution_count": 11,
   "metadata": {},
   "outputs": [],
   "source": [
    "\n",
    "def zonerank (string):\n",
    "    for num in range(len(good_zones.index)):\n",
    "        if good_zones.index[num][1:] == string:\n",
    "            return num\n",
    "def neighborhoodrank (string):\n",
    "    for num in range(len(good_neighborhoods.index)):\n",
    "        if good_neighborhoods.index[num][1:] == string:\n",
    "            return num\n",
    "def subzonerank (string):\n",
    "    for num in range(len(good_subzone.index)):\n",
    "        if good_subzone.index[num][1:] == string:\n",
    "            return num\n"
   ]
  },
  {
   "cell_type": "code",
   "execution_count": null,
   "metadata": {
    "scrolled": true
   },
   "outputs": [],
   "source": []
  },
  {
   "cell_type": "code",
   "execution_count": 15,
   "metadata": {},
   "outputs": [],
   "source": [
    "trainfeatureenged['zonerank']= trainfeatureenged['MSZoning'].apply(zonerank)\n",
    "trainfeatureenged['neighboorhoodrank'] = trainfeatureenged['MSSubClass'].apply(neighborhoodrank)\n",
    "trainfeatureenged['subzonerank']= trainfeatureenged['Neighborhood'].apply(subzonerank)\n",
    "trainfeatureenged[trainfeatureenged['LotFrontage'].isnull()] = testhousingpd['LotFrontage'].mean()"
   ]
  },
  {
   "cell_type": "code",
   "execution_count": 16,
   "metadata": {},
   "outputs": [
    {
     "data": {
      "text/plain": [
       "LotShape                -0.678742\n",
       "OverallCond             -0.677133\n",
       "MSZone_RM               -0.677042\n",
       "SaleType_WD             -0.676710\n",
       "SaleCondition_Normal    -0.676003\n",
       "CentralAir_N            -0.675964\n",
       "Neighborhood_NAmes      -0.675892\n",
       "HouseStyle_1.5Fin       -0.675727\n",
       "Neighborhood_OldTown    -0.675715\n",
       "MSSUB_30                -0.675634\n",
       "MSSUB_50                -0.675611\n",
       "Neighborhood_Edwards    -0.675492\n",
       "KitchenAbvGr            -0.675107\n",
       "SaleCondition_Abnorml   -0.675100\n",
       "Neighborhood_BrkSide    -0.674995\n",
       "Neighborhood_IDOTRR     -0.674991\n",
       "Alley_Grvl              -0.674969\n",
       "Condition1_Feedr        -0.674953\n",
       "MSSUB_160               -0.674890\n",
       "MSSUB_90                -0.674834\n",
       "BldgType_Duplex         -0.674834\n",
       "Neighborhood_Sawyer     -0.674825\n",
       "Condition1_Artery       -0.674787\n",
       "BldgType_Twnhs          -0.674755\n",
       "BldgType_2fmCon         -0.674690\n",
       "MSSUB_190               -0.674668\n",
       "SaleType_COD            -0.674658\n",
       "HouseStyle_SFoyer       -0.674658\n",
       "HouseStyle_1Story       -0.674648\n",
       "Neighborhood_MeadowV    -0.674592\n",
       "                           ...   \n",
       "zonerank                -0.660863\n",
       "GarageCars              -0.660820\n",
       "BsmtQual                -0.659277\n",
       "TotRmsAbvGrd            -0.648294\n",
       "OverallQual             -0.641399\n",
       "3SsnPorch               -0.447510\n",
       "PoolArea                -0.335898\n",
       "LowQualFinSF            -0.320262\n",
       "EnclosedPorch           -0.317173\n",
       "ScreenPorch             -0.169070\n",
       "MSSubClass              -0.147449\n",
       "MiscVal                 -0.100556\n",
       "BsmtFinSF2              -0.059999\n",
       "OpenPorchSF              0.142374\n",
       "LotFrontage              0.276898\n",
       "WoodDeckSF               0.302893\n",
       "2ndFlrSF                 0.395316\n",
       "MasVnrArea               0.417887\n",
       "BsmtUnfSF                0.438883\n",
       "BsmtFinSF1               0.491644\n",
       "LotArea                  0.517243\n",
       "YrSold                   0.674256\n",
       "YearRemodAdd             0.684115\n",
       "YearBuilt                0.689507\n",
       "GarageYrBlt              0.705570\n",
       "GarageArea               0.780935\n",
       "TotalBsmtSF              0.798360\n",
       "1stFlrSF                 0.810810\n",
       "GrLivArea                0.849674\n",
       "SalePrice                1.000000\n",
       "Name: SalePrice, Length: 142, dtype: float64"
      ]
     },
     "execution_count": 16,
     "metadata": {},
     "output_type": "execute_result"
    }
   ],
   "source": [
    "trainfeatureenged.corr()['SalePrice'].sort_values()"
   ]
  },
  {
   "cell_type": "markdown",
   "metadata": {},
   "source": [
    "Some trial and error has given me a set of dummies and useful features. (2nd list) I'm going to try to improve them with a list of the engineered features I have created. "
   ]
  },
  {
   "cell_type": "code",
   "execution_count": 25,
   "metadata": {},
   "outputs": [],
   "source": [
    "features1 = ['zonerank',  'neighboorhoodrank', 'subzonerank', 'ExterQual', 'LotShape', 'LotFrontage', 'Utilities','ExterCond', 'BsmtQual', 'BsmtCond' ,'HeatingQC','Functional'  ]\n",
    "features2= ['OverallQual', \n",
    "'GrLivArea','ExterQual','GarageCars','GarageArea', 'TotalBsmtSF', \n",
    "'1stFlrSF','BsmtQual', 'FullBath','TotRmsAbvGrd', 'YearBuilt', 'YearRemodAdd', 'SaleType_New' , \n",
    "'SaleCondition_Partial', 'LotArea','CentralAir_Y', 'LotShape', 'MSZone_RM', \n",
    "'SaleType_WD', 'MSSUB_30', 'MSSUB_50', 'YrSold', 'MoSold', 'Fireplaces', 'Utilities', 'Neighborhood_NridgHt', 'MSSUB_60',\n",
    "  'Neighborhood_NoRidge' , 'Neighborhood_OldTown', 'Neighborhood_NAmes', 'Neighborhood_Edwards',   'Neighborhood_IDOTRR'] \n",
    "features = features1+features2\n",
    "features3 = ['OverallQual', \n",
    "'GrLivArea','ExterQual','GarageCars','GarageArea', 'TotalBsmtSF', \n",
    "'1stFlrSF','BsmtQual', 'FullBath','TotRmsAbvGrd', 'YearBuilt', 'YearRemodAdd', 'SaleType_New' , \n",
    "'SaleCondition_Partial', 'LotArea','CentralAir_Y', 'LotShape', 'MSZone_RM', \n",
    "'SaleType_WD', 'MSSUB_30', 'MSSUB_50', 'YrSold', 'MoSold', 'Fireplaces', 'Utilities', 'Neighborhood_NridgHt', 'MSSUB_60',\n",
    "  'Neighborhood_NoRidge' , 'Neighborhood_OldTown', 'Neighborhood_NAmes', 'Neighborhood_Edwards',   'Neighborhood_IDOTRR' ]"
   ]
  },
  {
   "cell_type": "code",
   "execution_count": 24,
   "metadata": {},
   "outputs": [
    {
     "name": "stdout",
     "output_type": "stream",
     "text": [
      "['zonerank', 'neighboorhoodrank', 'subzonerank', 'ExterQual', 'LotShape', 'LotFrontageUtilities', 'ExterCond', 'BsmtQual', 'BsmtCond', 'HeatingQC', 'Functional', 'OverallQual', 'GrLivArea', 'ExterQual', 'GarageCars', 'GarageArea', 'TotalBsmtSF', '1stFlrSF', 'BsmtQual', 'FullBath', 'TotRmsAbvGrd', 'YearBuilt', 'YearRemodAdd', 'SaleType_New', 'SaleCondition_Partial', 'LotArea', 'CentralAir_Y', 'LotShape', 'MSZone_RM', 'SaleType_WD', 'MSSUB_30', 'MSSUB_50', 'YrSold', 'MoSold', 'Fireplaces', 'Utilities', 'Neighborhood_NridgHt', 'MSSUB_60', 'Neighborhood_NoRidge', 'Neighborhood_OldTown', 'Neighborhood_NAmes', 'Neighborhood_Edwards', 'Neighborhood_IDOTRR']\n"
     ]
    }
   ],
   "source": [
    "print(features)"
   ]
  },
  {
   "cell_type": "code",
   "execution_count": null,
   "metadata": {},
   "outputs": [],
   "source": []
  },
  {
   "cell_type": "code",
   "execution_count": 26,
   "metadata": {},
   "outputs": [],
   "source": [
    "\n",
    "X= trainfeatureenged[features]\n",
    "y=trainfeatureenged['SalePrice']\n",
    "#note to self, lot frontage has nulls. \n"
   ]
  },
  {
   "cell_type": "code",
   "execution_count": 27,
   "metadata": {},
   "outputs": [
    {
     "data": {
      "text/plain": [
       "Index(['zonerank', 'neighboorhoodrank', 'subzonerank', 'ExterQual', 'LotShape',\n",
       "       'LotFrontage', 'Utilities', 'ExterCond', 'BsmtQual', 'BsmtCond',\n",
       "       'HeatingQC', 'Functional', 'OverallQual', 'GrLivArea', 'ExterQual',\n",
       "       'GarageCars', 'GarageArea', 'TotalBsmtSF', '1stFlrSF', 'BsmtQual',\n",
       "       'FullBath', 'TotRmsAbvGrd', 'YearBuilt', 'YearRemodAdd', 'SaleType_New',\n",
       "       'SaleCondition_Partial', 'LotArea', 'CentralAir_Y', 'LotShape',\n",
       "       'MSZone_RM', 'SaleType_WD', 'MSSUB_30', 'MSSUB_50', 'YrSold', 'MoSold',\n",
       "       'Fireplaces', 'Utilities', 'Neighborhood_NridgHt', 'MSSUB_60',\n",
       "       'Neighborhood_NoRidge', 'Neighborhood_OldTown', 'Neighborhood_NAmes',\n",
       "       'Neighborhood_Edwards', 'Neighborhood_IDOTRR'],\n",
       "      dtype='object')"
      ]
     },
     "execution_count": 27,
     "metadata": {},
     "output_type": "execute_result"
    }
   ],
   "source": [
    "X.columns"
   ]
  },
  {
   "cell_type": "code",
   "execution_count": 28,
   "metadata": {},
   "outputs": [
    {
     "name": "stderr",
     "output_type": "stream",
     "text": [
      "/opt/conda/lib/python3.6/site-packages/ipykernel_launcher.py:1: SettingWithCopyWarning: \n",
      "A value is trying to be set on a copy of a slice from a DataFrame\n",
      "\n",
      "See the caveats in the documentation: http://pandas.pydata.org/pandas-docs/stable/indexing.html#indexing-view-versus-copy\n",
      "  \"\"\"Entry point for launching an IPython kernel.\n"
     ]
    }
   ],
   "source": [
    "X.dropna(axis=1,inplace=True)"
   ]
  },
  {
   "cell_type": "code",
   "execution_count": 29,
   "metadata": {},
   "outputs": [
    {
     "data": {
      "text/plain": [
       "Index(['zonerank', 'ExterQual', 'LotShape', 'LotFrontage', 'Utilities',\n",
       "       'ExterCond', 'BsmtQual', 'BsmtCond', 'HeatingQC', 'Functional',\n",
       "       'OverallQual', 'GrLivArea', 'ExterQual', 'GarageCars', 'GarageArea',\n",
       "       'TotalBsmtSF', '1stFlrSF', 'BsmtQual', 'FullBath', 'TotRmsAbvGrd',\n",
       "       'YearBuilt', 'YearRemodAdd', 'SaleType_New', 'SaleCondition_Partial',\n",
       "       'LotArea', 'CentralAir_Y', 'LotShape', 'MSZone_RM', 'SaleType_WD',\n",
       "       'MSSUB_30', 'MSSUB_50', 'YrSold', 'MoSold', 'Fireplaces', 'Utilities',\n",
       "       'Neighborhood_NridgHt', 'MSSUB_60', 'Neighborhood_NoRidge',\n",
       "       'Neighborhood_OldTown', 'Neighborhood_NAmes', 'Neighborhood_Edwards',\n",
       "       'Neighborhood_IDOTRR'],\n",
       "      dtype='object')"
      ]
     },
     "execution_count": 29,
     "metadata": {},
     "output_type": "execute_result"
    }
   ],
   "source": [
    "X.columns"
   ]
  },
  {
   "cell_type": "code",
   "execution_count": 30,
   "metadata": {
    "collapsed": true
   },
   "outputs": [],
   "source": [
    "pf = PolynomialFeatures(include_bias=False, degree=3)\n",
    "X_poly = pf.fit_transform(X)\n",
    "\n"
   ]
  },
  {
   "cell_type": "code",
   "execution_count": 31,
   "metadata": {
    "collapsed": true
   },
   "outputs": [],
   "source": [
    "ss= StandardScaler()\n",
    "ss.fit(X_poly)\n",
    "X_poly_scaled = ss.transform(X_poly)\n"
   ]
  },
  {
   "cell_type": "code",
   "execution_count": 32,
   "metadata": {
    "collapsed": true
   },
   "outputs": [],
   "source": [
    "alphas = np.arange(0.05, 2.5, 0.1)\n",
    "l1ratios = np.arange(0.0, 1.1, 0.1)"
   ]
  },
  {
   "cell_type": "code",
   "execution_count": null,
   "metadata": {},
   "outputs": [
    {
     "name": "stderr",
     "output_type": "stream",
     "text": [
      "/opt/conda/lib/python3.6/site-packages/sklearn/linear_model/coordinate_descent.py:470: UserWarning: Coordinate descent with alpha=0 may lead to unexpected results and is discouraged.\n",
      "  positive)\n",
      "/opt/conda/lib/python3.6/site-packages/sklearn/linear_model/coordinate_descent.py:484: ConvergenceWarning: Objective did not converge. You might want to increase the number of iterations. Fitting data with very small alpha may cause precision problems.\n",
      "  ConvergenceWarning)\n",
      "/opt/conda/lib/python3.6/site-packages/sklearn/linear_model/coordinate_descent.py:470: UserWarning: Coordinate descent with alpha=0 may lead to unexpected results and is discouraged.\n",
      "  positive)\n",
      "/opt/conda/lib/python3.6/site-packages/sklearn/linear_model/coordinate_descent.py:484: ConvergenceWarning: Objective did not converge. You might want to increase the number of iterations. Fitting data with very small alpha may cause precision problems.\n",
      "  ConvergenceWarning)\n",
      "/opt/conda/lib/python3.6/site-packages/sklearn/linear_model/coordinate_descent.py:470: UserWarning: Coordinate descent with alpha=0 may lead to unexpected results and is discouraged.\n",
      "  positive)\n",
      "/opt/conda/lib/python3.6/site-packages/sklearn/linear_model/coordinate_descent.py:484: ConvergenceWarning: Objective did not converge. You might want to increase the number of iterations. Fitting data with very small alpha may cause precision problems.\n",
      "  ConvergenceWarning)\n",
      "/opt/conda/lib/python3.6/site-packages/sklearn/linear_model/coordinate_descent.py:470: UserWarning: Coordinate descent with alpha=0 may lead to unexpected results and is discouraged.\n",
      "  positive)\n",
      "/opt/conda/lib/python3.6/site-packages/sklearn/linear_model/coordinate_descent.py:484: ConvergenceWarning: Objective did not converge. You might want to increase the number of iterations. Fitting data with very small alpha may cause precision problems.\n",
      "  ConvergenceWarning)\n",
      "/opt/conda/lib/python3.6/site-packages/sklearn/linear_model/coordinate_descent.py:484: ConvergenceWarning: Objective did not converge. You might want to increase the number of iterations. Fitting data with very small alpha may cause precision problems.\n",
      "  ConvergenceWarning)\n",
      "/opt/conda/lib/python3.6/site-packages/sklearn/linear_model/coordinate_descent.py:484: ConvergenceWarning: Objective did not converge. You might want to increase the number of iterations. Fitting data with very small alpha may cause precision problems.\n",
      "  ConvergenceWarning)\n",
      "/opt/conda/lib/python3.6/site-packages/sklearn/linear_model/coordinate_descent.py:484: ConvergenceWarning: Objective did not converge. You might want to increase the number of iterations. Fitting data with very small alpha may cause precision problems.\n",
      "  ConvergenceWarning)\n",
      "/opt/conda/lib/python3.6/site-packages/sklearn/linear_model/coordinate_descent.py:484: ConvergenceWarning: Objective did not converge. You might want to increase the number of iterations. Fitting data with very small alpha may cause precision problems.\n",
      "  ConvergenceWarning)\n",
      "/opt/conda/lib/python3.6/site-packages/sklearn/linear_model/coordinate_descent.py:484: ConvergenceWarning: Objective did not converge. You might want to increase the number of iterations. Fitting data with very small alpha may cause precision problems.\n",
      "  ConvergenceWarning)\n",
      "/opt/conda/lib/python3.6/site-packages/sklearn/linear_model/coordinate_descent.py:484: ConvergenceWarning: Objective did not converge. You might want to increase the number of iterations. Fitting data with very small alpha may cause precision problems.\n",
      "  ConvergenceWarning)\n",
      "/opt/conda/lib/python3.6/site-packages/sklearn/linear_model/coordinate_descent.py:484: ConvergenceWarning: Objective did not converge. You might want to increase the number of iterations. Fitting data with very small alpha may cause precision problems.\n",
      "  ConvergenceWarning)\n",
      "/opt/conda/lib/python3.6/site-packages/sklearn/linear_model/coordinate_descent.py:484: ConvergenceWarning: Objective did not converge. You might want to increase the number of iterations. Fitting data with very small alpha may cause precision problems.\n",
      "  ConvergenceWarning)\n",
      "/opt/conda/lib/python3.6/site-packages/sklearn/linear_model/coordinate_descent.py:484: ConvergenceWarning: Objective did not converge. You might want to increase the number of iterations. Fitting data with very small alpha may cause precision problems.\n",
      "  ConvergenceWarning)\n",
      "/opt/conda/lib/python3.6/site-packages/sklearn/linear_model/coordinate_descent.py:484: ConvergenceWarning: Objective did not converge. You might want to increase the number of iterations. Fitting data with very small alpha may cause precision problems.\n",
      "  ConvergenceWarning)\n",
      "/opt/conda/lib/python3.6/site-packages/sklearn/linear_model/coordinate_descent.py:484: ConvergenceWarning: Objective did not converge. You might want to increase the number of iterations. Fitting data with very small alpha may cause precision problems.\n",
      "  ConvergenceWarning)\n",
      "/opt/conda/lib/python3.6/site-packages/sklearn/linear_model/coordinate_descent.py:484: ConvergenceWarning: Objective did not converge. You might want to increase the number of iterations. Fitting data with very small alpha may cause precision problems.\n",
      "  ConvergenceWarning)\n",
      "/opt/conda/lib/python3.6/site-packages/sklearn/linear_model/coordinate_descent.py:484: ConvergenceWarning: Objective did not converge. You might want to increase the number of iterations. Fitting data with very small alpha may cause precision problems.\n",
      "  ConvergenceWarning)\n",
      "/opt/conda/lib/python3.6/site-packages/sklearn/linear_model/coordinate_descent.py:484: ConvergenceWarning: Objective did not converge. You might want to increase the number of iterations. Fitting data with very small alpha may cause precision problems.\n",
      "  ConvergenceWarning)\n"
     ]
    }
   ],
   "source": [
    "params = {'alpha': alphas, 'l1_ratio': l1ratios}\n",
    "model = ElasticNet()\n",
    "gs = GridSearchCV(model, param_grid=params, cv =4, scoring= 'r2')\n",
    "gs.fit(X_poly_scaled, y)"
   ]
  },
  {
   "cell_type": "code",
   "execution_count": null,
   "metadata": {},
   "outputs": [],
   "source": [
    "gs.best_score_\n",
    "#this score is terrible, but let's try to finish the workflow\n"
   ]
  },
  {
   "cell_type": "code",
   "execution_count": null,
   "metadata": {},
   "outputs": [],
   "source": [
    "gs.best_estimator_"
   ]
  },
  {
   "cell_type": "code",
   "execution_count": null,
   "metadata": {
    "collapsed": true
   },
   "outputs": [],
   "source": [
    "workingmodel = gs.best_estimator_"
   ]
  },
  {
   "cell_type": "code",
   "execution_count": null,
   "metadata": {},
   "outputs": [],
   "source": [
    "workingmodel.coef_\n",
    "\n"
   ]
  },
  {
   "cell_type": "code",
   "execution_count": null,
   "metadata": {},
   "outputs": [],
   "source": [
    "X_test= testhousingpd[features]\n",
    "X_test.head()"
   ]
  },
  {
   "cell_type": "code",
   "execution_count": null,
   "metadata": {
    "collapsed": true
   },
   "outputs": [],
   "source": [
    "model.fit(X_poly_scaled, y)\n",
    "X_test= testhousingpd[features]\n",
    "X_test_poly = pf.fit_transform(X_test)\n",
    "ss.fit(X_poly)\n",
    "X_test_scaled= ss.transform(X_test_poly)\n",
    "pred= model.predict(X_test_scaled)"
   ]
  },
  {
   "cell_type": "code",
   "execution_count": null,
   "metadata": {},
   "outputs": [],
   "source": [
    "pred"
   ]
  },
  {
   "cell_type": "code",
   "execution_count": null,
   "metadata": {},
   "outputs": [],
   "source": [
    "testhousingpd.index"
   ]
  },
  {
   "cell_type": "code",
   "execution_count": null,
   "metadata": {
    "collapsed": true
   },
   "outputs": [],
   "source": [
    "\n",
    "submission  = pd.DataFrame({'SalePrice':pred}, index = testhousingpd.index)"
   ]
  },
  {
   "cell_type": "code",
   "execution_count": null,
   "metadata": {},
   "outputs": [],
   "source": [
    "trainhousingpd.head()\n"
   ]
  },
  {
   "cell_type": "code",
   "execution_count": null,
   "metadata": {
    "collapsed": true
   },
   "outputs": [],
   "source": [
    "submission.to_csv('submission1.csv')"
   ]
  }
 ],
 "metadata": {
  "kernelspec": {
   "display_name": "Python 3",
   "language": "python",
   "name": "python3"
  },
  "language_info": {
   "codemirror_mode": {
    "name": "ipython",
    "version": 3
   },
   "file_extension": ".py",
   "mimetype": "text/x-python",
   "name": "python",
   "nbconvert_exporter": "python",
   "pygments_lexer": "ipython3",
   "version": "3.6.1"
  }
 },
 "nbformat": 4,
 "nbformat_minor": 2
}
